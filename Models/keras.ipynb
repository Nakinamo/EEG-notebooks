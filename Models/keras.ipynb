{
  "nbformat": 4,
  "nbformat_minor": 0,
  "metadata": {
    "colab": {
      "name": "keras.ipynb",
      "provenance": []
    },
    "kernelspec": {
      "name": "python3",
      "display_name": "Python 3"
    },
    "language_info": {
      "name": "python"
    },
    "widgets": {
      "application/vnd.jupyter.widget-state+json": {
        "0692a4e944f74c91b397ad0dd3a12bdd": {
          "model_module": "@jupyter-widgets/controls",
          "model_name": "HBoxModel",
          "model_module_version": "1.5.0",
          "state": {
            "_dom_classes": [],
            "_model_module": "@jupyter-widgets/controls",
            "_model_module_version": "1.5.0",
            "_model_name": "HBoxModel",
            "_view_count": null,
            "_view_module": "@jupyter-widgets/controls",
            "_view_module_version": "1.5.0",
            "_view_name": "HBoxView",
            "box_style": "",
            "children": [
              "IPY_MODEL_0028df77195044d0a5aef531da034729",
              "IPY_MODEL_5192e4441ba94b0c9b20bab2d60c8515",
              "IPY_MODEL_9158d8666c6142eeb0e6734ad8860ba0"
            ],
            "layout": "IPY_MODEL_43752b2a45994d3694cc96ffb0301e67"
          }
        },
        "0028df77195044d0a5aef531da034729": {
          "model_module": "@jupyter-widgets/controls",
          "model_name": "HTMLModel",
          "model_module_version": "1.5.0",
          "state": {
            "_dom_classes": [],
            "_model_module": "@jupyter-widgets/controls",
            "_model_module_version": "1.5.0",
            "_model_name": "HTMLModel",
            "_view_count": null,
            "_view_module": "@jupyter-widgets/controls",
            "_view_module_version": "1.5.0",
            "_view_name": "HTMLView",
            "description": "",
            "description_tooltip": null,
            "layout": "IPY_MODEL_46ede117e4fb4aeeb3ad70ebfd73bec6",
            "placeholder": "​",
            "style": "IPY_MODEL_b4fb1f67480a4f8c8464ba5fcb512b41",
            "value": "100%"
          }
        },
        "5192e4441ba94b0c9b20bab2d60c8515": {
          "model_module": "@jupyter-widgets/controls",
          "model_name": "FloatProgressModel",
          "model_module_version": "1.5.0",
          "state": {
            "_dom_classes": [],
            "_model_module": "@jupyter-widgets/controls",
            "_model_module_version": "1.5.0",
            "_model_name": "FloatProgressModel",
            "_view_count": null,
            "_view_module": "@jupyter-widgets/controls",
            "_view_module_version": "1.5.0",
            "_view_name": "ProgressView",
            "bar_style": "success",
            "description": "",
            "description_tooltip": null,
            "layout": "IPY_MODEL_cedeed3c95684032ba2a4a115f2d7908",
            "max": 8,
            "min": 0,
            "orientation": "horizontal",
            "style": "IPY_MODEL_d1ea5f7ffa6d4282b53330c6289e91f9",
            "value": 8
          }
        },
        "9158d8666c6142eeb0e6734ad8860ba0": {
          "model_module": "@jupyter-widgets/controls",
          "model_name": "HTMLModel",
          "model_module_version": "1.5.0",
          "state": {
            "_dom_classes": [],
            "_model_module": "@jupyter-widgets/controls",
            "_model_module_version": "1.5.0",
            "_model_name": "HTMLModel",
            "_view_count": null,
            "_view_module": "@jupyter-widgets/controls",
            "_view_module_version": "1.5.0",
            "_view_name": "HTMLView",
            "description": "",
            "description_tooltip": null,
            "layout": "IPY_MODEL_7f82979fc461481a99d2c1308300dd5c",
            "placeholder": "​",
            "style": "IPY_MODEL_4cdcff20bd2c48feaa0a5fdf923e2bdd",
            "value": " 8/8 [00:36&lt;00:00,  4.61s/it]"
          }
        },
        "43752b2a45994d3694cc96ffb0301e67": {
          "model_module": "@jupyter-widgets/base",
          "model_name": "LayoutModel",
          "model_module_version": "1.2.0",
          "state": {
            "_model_module": "@jupyter-widgets/base",
            "_model_module_version": "1.2.0",
            "_model_name": "LayoutModel",
            "_view_count": null,
            "_view_module": "@jupyter-widgets/base",
            "_view_module_version": "1.2.0",
            "_view_name": "LayoutView",
            "align_content": null,
            "align_items": null,
            "align_self": null,
            "border": null,
            "bottom": null,
            "display": null,
            "flex": null,
            "flex_flow": null,
            "grid_area": null,
            "grid_auto_columns": null,
            "grid_auto_flow": null,
            "grid_auto_rows": null,
            "grid_column": null,
            "grid_gap": null,
            "grid_row": null,
            "grid_template_areas": null,
            "grid_template_columns": null,
            "grid_template_rows": null,
            "height": null,
            "justify_content": null,
            "justify_items": null,
            "left": null,
            "margin": null,
            "max_height": null,
            "max_width": null,
            "min_height": null,
            "min_width": null,
            "object_fit": null,
            "object_position": null,
            "order": null,
            "overflow": null,
            "overflow_x": null,
            "overflow_y": null,
            "padding": null,
            "right": null,
            "top": null,
            "visibility": null,
            "width": null
          }
        },
        "46ede117e4fb4aeeb3ad70ebfd73bec6": {
          "model_module": "@jupyter-widgets/base",
          "model_name": "LayoutModel",
          "model_module_version": "1.2.0",
          "state": {
            "_model_module": "@jupyter-widgets/base",
            "_model_module_version": "1.2.0",
            "_model_name": "LayoutModel",
            "_view_count": null,
            "_view_module": "@jupyter-widgets/base",
            "_view_module_version": "1.2.0",
            "_view_name": "LayoutView",
            "align_content": null,
            "align_items": null,
            "align_self": null,
            "border": null,
            "bottom": null,
            "display": null,
            "flex": null,
            "flex_flow": null,
            "grid_area": null,
            "grid_auto_columns": null,
            "grid_auto_flow": null,
            "grid_auto_rows": null,
            "grid_column": null,
            "grid_gap": null,
            "grid_row": null,
            "grid_template_areas": null,
            "grid_template_columns": null,
            "grid_template_rows": null,
            "height": null,
            "justify_content": null,
            "justify_items": null,
            "left": null,
            "margin": null,
            "max_height": null,
            "max_width": null,
            "min_height": null,
            "min_width": null,
            "object_fit": null,
            "object_position": null,
            "order": null,
            "overflow": null,
            "overflow_x": null,
            "overflow_y": null,
            "padding": null,
            "right": null,
            "top": null,
            "visibility": null,
            "width": null
          }
        },
        "b4fb1f67480a4f8c8464ba5fcb512b41": {
          "model_module": "@jupyter-widgets/controls",
          "model_name": "DescriptionStyleModel",
          "model_module_version": "1.5.0",
          "state": {
            "_model_module": "@jupyter-widgets/controls",
            "_model_module_version": "1.5.0",
            "_model_name": "DescriptionStyleModel",
            "_view_count": null,
            "_view_module": "@jupyter-widgets/base",
            "_view_module_version": "1.2.0",
            "_view_name": "StyleView",
            "description_width": ""
          }
        },
        "cedeed3c95684032ba2a4a115f2d7908": {
          "model_module": "@jupyter-widgets/base",
          "model_name": "LayoutModel",
          "model_module_version": "1.2.0",
          "state": {
            "_model_module": "@jupyter-widgets/base",
            "_model_module_version": "1.2.0",
            "_model_name": "LayoutModel",
            "_view_count": null,
            "_view_module": "@jupyter-widgets/base",
            "_view_module_version": "1.2.0",
            "_view_name": "LayoutView",
            "align_content": null,
            "align_items": null,
            "align_self": null,
            "border": null,
            "bottom": null,
            "display": null,
            "flex": null,
            "flex_flow": null,
            "grid_area": null,
            "grid_auto_columns": null,
            "grid_auto_flow": null,
            "grid_auto_rows": null,
            "grid_column": null,
            "grid_gap": null,
            "grid_row": null,
            "grid_template_areas": null,
            "grid_template_columns": null,
            "grid_template_rows": null,
            "height": null,
            "justify_content": null,
            "justify_items": null,
            "left": null,
            "margin": null,
            "max_height": null,
            "max_width": null,
            "min_height": null,
            "min_width": null,
            "object_fit": null,
            "object_position": null,
            "order": null,
            "overflow": null,
            "overflow_x": null,
            "overflow_y": null,
            "padding": null,
            "right": null,
            "top": null,
            "visibility": null,
            "width": null
          }
        },
        "d1ea5f7ffa6d4282b53330c6289e91f9": {
          "model_module": "@jupyter-widgets/controls",
          "model_name": "ProgressStyleModel",
          "model_module_version": "1.5.0",
          "state": {
            "_model_module": "@jupyter-widgets/controls",
            "_model_module_version": "1.5.0",
            "_model_name": "ProgressStyleModel",
            "_view_count": null,
            "_view_module": "@jupyter-widgets/base",
            "_view_module_version": "1.2.0",
            "_view_name": "StyleView",
            "bar_color": null,
            "description_width": ""
          }
        },
        "7f82979fc461481a99d2c1308300dd5c": {
          "model_module": "@jupyter-widgets/base",
          "model_name": "LayoutModel",
          "model_module_version": "1.2.0",
          "state": {
            "_model_module": "@jupyter-widgets/base",
            "_model_module_version": "1.2.0",
            "_model_name": "LayoutModel",
            "_view_count": null,
            "_view_module": "@jupyter-widgets/base",
            "_view_module_version": "1.2.0",
            "_view_name": "LayoutView",
            "align_content": null,
            "align_items": null,
            "align_self": null,
            "border": null,
            "bottom": null,
            "display": null,
            "flex": null,
            "flex_flow": null,
            "grid_area": null,
            "grid_auto_columns": null,
            "grid_auto_flow": null,
            "grid_auto_rows": null,
            "grid_column": null,
            "grid_gap": null,
            "grid_row": null,
            "grid_template_areas": null,
            "grid_template_columns": null,
            "grid_template_rows": null,
            "height": null,
            "justify_content": null,
            "justify_items": null,
            "left": null,
            "margin": null,
            "max_height": null,
            "max_width": null,
            "min_height": null,
            "min_width": null,
            "object_fit": null,
            "object_position": null,
            "order": null,
            "overflow": null,
            "overflow_x": null,
            "overflow_y": null,
            "padding": null,
            "right": null,
            "top": null,
            "visibility": null,
            "width": null
          }
        },
        "4cdcff20bd2c48feaa0a5fdf923e2bdd": {
          "model_module": "@jupyter-widgets/controls",
          "model_name": "DescriptionStyleModel",
          "model_module_version": "1.5.0",
          "state": {
            "_model_module": "@jupyter-widgets/controls",
            "_model_module_version": "1.5.0",
            "_model_name": "DescriptionStyleModel",
            "_view_count": null,
            "_view_module": "@jupyter-widgets/base",
            "_view_module_version": "1.2.0",
            "_view_name": "StyleView",
            "description_width": ""
          }
        }
      }
    }
  },
  "cells": [
    {
      "cell_type": "code",
      "source": [
        "from sklearn.preprocessing import QuantileTransformer\n",
        "import matplotlib\n",
        "import matplotlib.pyplot as plt\n",
        "import pandas as pd\n",
        "import numpy as np\n",
        "from tqdm import tqdm_notebook\n",
        "from sklearn.metrics import mean_absolute_error, r2_score, mean_absolute_percentage_error\n",
        "from sklearn import linear_model"
      ],
      "metadata": {
        "id": "tIN9vFunDDMc"
      },
      "execution_count": null,
      "outputs": []
    },
    {
      "cell_type": "code",
      "source": [
        "!gdown 14AK65LfYoj7aSjZOXB9HUzbhqaBaxQi0"
      ],
      "metadata": {
        "colab": {
          "base_uri": "https://localhost:8080/"
        },
        "id": "WcejYBL7-GS7",
        "outputId": "4a7fb2f6-9edb-44aa-b86c-5ee0f12ab1b2"
      },
      "execution_count": null,
      "outputs": [
        {
          "output_type": "stream",
          "name": "stdout",
          "text": [
            "Downloading...\n",
            "From: https://drive.google.com/uc?id=14AK65LfYoj7aSjZOXB9HUzbhqaBaxQi0\n",
            "To: /content/Matrix_complexity.csv\n",
            "\r  0% 0.00/1.39M [00:00<?, ?B/s]\r100% 1.39M/1.39M [00:00<00:00, 20.3MB/s]\n"
          ]
        }
      ]
    },
    {
      "cell_type": "code",
      "source": [
        "data_all = pd.read_csv('/content/Matrix_complexity.csv')"
      ],
      "metadata": {
        "id": "Y-HB3zDwCsU3"
      },
      "execution_count": null,
      "outputs": []
    },
    {
      "cell_type": "code",
      "source": [
        "models = ['NN']\n",
        "metrics = ['MAPE', 'MAE']\n",
        "formes = ['inverted', 'average']\n",
        "columns = [\n",
        "    np.array([models[i] for i in range(1) for j in range(2) for k in range(2)]),\n",
        "    np.array([metrics[j] for i in range(1) for j in range(2) for k in range(2)]),\n",
        "    np.array([formes[k] for i in range(1) for j in range(2) for k in range(2)]),\n",
        "]\n",
        "chans = ['Fz', 'F3', 'F7','C3', 'T7', 'Pz', 'P3','P7', 'O1', 'Oz', 'O2','P4', 'P8', 'Cz','C4', 'T8', 'F4', 'F8']"
      ],
      "metadata": {
        "id": "ur9N871xDH_6"
      },
      "execution_count": null,
      "outputs": []
    },
    {
      "cell_type": "code",
      "source": [
        "from keras.layers.advanced_activations import LeakyReLU\n",
        "import keras\n",
        "import tqdm\n",
        "from keras import layers\n",
        "\n",
        "result = pd.DataFrame()\n",
        "grid_res = []\n",
        "n_films = 8\n",
        "n_subjects = 32\n",
        "for column in data_all.columns:\n",
        "    data_all[column] = data_all[column].fillna(0)\n",
        "\n",
        "\n",
        "for film in tqdm.tqdm_notebook(range(1, n_films + 1)):\n",
        "  X_test = data_all.loc[(data_all['film'] == film)].reset_index(drop=True)\n",
        "  X_train = data_all.loc[(data_all['film'] != film)].reset_index(drop=True)\n",
        "  X_train = X_train.sample(frac=1)\n",
        "  X_test = X_test.sample(frac=1)\n",
        "\n",
        "  y_train = X_train['Labels']\n",
        "  y_test = X_test['Labels']\n",
        "\n",
        "  X_train = X_train.drop(['film', 'Subj', 'Labels'], axis=1)\n",
        "  X_test = X_test.drop(['film', 'Subj', 'Labels'], axis=1)\n",
        "\n",
        "  m = keras.Sequential([\n",
        "      layers.Dense(256),\n",
        "      layers.BatchNormalization(),\n",
        "      layers.Dropout(0.8),\n",
        "      layers.LeakyReLU(),\n",
        "      layers.Dense(256),\n",
        "      layers.BatchNormalization(),\n",
        "      layers.Dropout(0.8),\n",
        "      layers.LeakyReLU(),\n",
        "      layers.Dense(1),\n",
        "  ])\n",
        "\n",
        "  m.compile(optimizer='adam', loss='mean_squared_error', metrics=metrics)\n",
        "\n",
        "  m.fit(\n",
        "      X_train,\n",
        "      y_train,\n",
        "      epochs=100, verbose=0)\n",
        "  \n",
        "  m.evaluate(X_train, y_train)\n",
        "  m.evaluate(X_test, y_test)\n",
        "  print('\\n')"
      ],
      "metadata": {
        "colab": {
          "base_uri": "https://localhost:8080/",
          "height": 656,
          "referenced_widgets": [
            "0692a4e944f74c91b397ad0dd3a12bdd",
            "0028df77195044d0a5aef531da034729",
            "5192e4441ba94b0c9b20bab2d60c8515",
            "9158d8666c6142eeb0e6734ad8860ba0",
            "43752b2a45994d3694cc96ffb0301e67",
            "46ede117e4fb4aeeb3ad70ebfd73bec6",
            "b4fb1f67480a4f8c8464ba5fcb512b41",
            "cedeed3c95684032ba2a4a115f2d7908",
            "d1ea5f7ffa6d4282b53330c6289e91f9",
            "7f82979fc461481a99d2c1308300dd5c",
            "4cdcff20bd2c48feaa0a5fdf923e2bdd"
          ]
        },
        "id": "gg0KE9CtEp4r",
        "outputId": "3a6bc7dd-487d-44ca-88a8-dc2c6f0453ba"
      },
      "execution_count": null,
      "outputs": [
        {
          "output_type": "stream",
          "name": "stderr",
          "text": [
            "/usr/local/lib/python3.7/dist-packages/ipykernel_launcher.py:14: TqdmDeprecationWarning: This function will be removed in tqdm==5.0.0\n",
            "Please use `tqdm.notebook.tqdm` instead of `tqdm.tqdm_notebook`\n",
            "  \n"
          ]
        },
        {
          "output_type": "display_data",
          "data": {
            "text/plain": [
              "  0%|          | 0/8 [00:00<?, ?it/s]"
            ],
            "application/vnd.jupyter.widget-view+json": {
              "version_major": 2,
              "version_minor": 0,
              "model_id": "0692a4e944f74c91b397ad0dd3a12bdd"
            }
          },
          "metadata": {}
        },
        {
          "output_type": "stream",
          "name": "stdout",
          "text": [
            "5/5 [==============================] - 0s 5ms/step - loss: 8.5736 - MAPE: 47.9172 - MAE: 2.4686\n",
            "1/1 [==============================] - 0s 27ms/step - loss: 17.7725 - MAPE: 45.8928 - MAE: 3.6666\n",
            "\n",
            "\n",
            "5/5 [==============================] - 0s 5ms/step - loss: 8.5684 - MAPE: 47.8549 - MAE: 2.4268\n",
            "1/1 [==============================] - 0s 22ms/step - loss: 9.2361 - MAPE: 40.2856 - MAE: 2.5345\n",
            "\n",
            "\n",
            "5/5 [==============================] - 0s 4ms/step - loss: 8.0905 - MAPE: 45.6422 - MAE: 2.4001\n",
            "1/1 [==============================] - 0s 24ms/step - loss: 3.3690 - MAPE: 40.9360 - MAE: 1.4729\n",
            "\n",
            "\n",
            "5/5 [==============================] - 0s 5ms/step - loss: 9.0473 - MAPE: 47.0393 - MAE: 2.5002\n",
            "1/1 [==============================] - 0s 23ms/step - loss: 11.6699 - MAPE: 55.1106 - MAE: 3.0005\n",
            "\n",
            "\n",
            "5/5 [==============================] - 0s 4ms/step - loss: 9.4330 - MAPE: 44.7400 - MAE: 2.5616\n",
            "1/1 [==============================] - 0s 23ms/step - loss: 12.9784 - MAPE: 73.0319 - MAE: 3.2015\n",
            "\n",
            "\n",
            "5/5 [==============================] - 0s 4ms/step - loss: 9.5655 - MAPE: 49.5442 - MAE: 2.5762\n",
            "1/1 [==============================] - 0s 23ms/step - loss: 6.8512 - MAPE: 38.3924 - MAE: 2.2679\n",
            "\n",
            "\n",
            "5/5 [==============================] - 0s 4ms/step - loss: 9.1827 - MAPE: 48.8699 - MAE: 2.5464\n",
            "1/1 [==============================] - 0s 28ms/step - loss: 7.9645 - MAPE: 35.9367 - MAE: 2.3107\n",
            "\n",
            "\n",
            "5/5 [==============================] - 0s 4ms/step - loss: 9.7274 - MAPE: 45.9663 - MAE: 2.6262\n",
            "1/1 [==============================] - 0s 23ms/step - loss: 7.5975 - MAPE: 61.0581 - MAE: 2.2459\n",
            "\n",
            "\n"
          ]
        }
      ]
    },
    {
      "cell_type": "code",
      "source": [
        ""
      ],
      "metadata": {
        "id": "5alL0SF4CVnR"
      },
      "execution_count": null,
      "outputs": []
    }
  ]
}