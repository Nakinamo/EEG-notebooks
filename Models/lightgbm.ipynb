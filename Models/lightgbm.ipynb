{
  "nbformat": 4,
  "nbformat_minor": 0,
  "metadata": {
    "colab": {
      "name": "lightgbm.ipynb",
      "provenance": []
    },
    "kernelspec": {
      "name": "python3",
      "display_name": "Python 3"
    },
    "language_info": {
      "name": "python"
    }
  },
  "cells": [
    {
      "cell_type": "code",
      "source": [
        "!pip install shap"
      ],
      "metadata": {
        "colab": {
          "base_uri": "https://localhost:8080/"
        },
        "id": "W-1AHwVdRCfz",
        "outputId": "8b1e1cc6-ab29-4636-a6c4-ec05621c99c4"
      },
      "execution_count": null,
      "outputs": [
        {
          "output_type": "stream",
          "name": "stdout",
          "text": [
            "Collecting shap\n",
            "\u001b[33m  WARNING: Retrying (Retry(total=4, connect=None, read=None, redirect=None, status=None)) after connection broken by 'ProtocolError('Connection aborted.', ConnectionResetError(104, 'Connection reset by peer'))': /packages/36/08/3228c1b2f7b7009ada4033a68b859a89a6d5bf5d9e72e6a4c54ccf4218bd/shap-0.40.0-cp37-cp37m-manylinux2010_x86_64.whl\u001b[0m\n",
            "  Downloading shap-0.40.0-cp37-cp37m-manylinux2010_x86_64.whl (564 kB)\n",
            "\u001b[?25l\r\u001b[K     |▋                               | 10 kB 17.1 MB/s eta 0:00:01\r\u001b[K     |█▏                              | 20 kB 8.0 MB/s eta 0:00:01\r\u001b[K     |█▊                              | 30 kB 6.7 MB/s eta 0:00:01\r\u001b[K     |██▎                             | 40 kB 4.0 MB/s eta 0:00:01\r\u001b[K     |███                             | 51 kB 4.8 MB/s eta 0:00:01\r\u001b[K     |███▌                            | 61 kB 5.6 MB/s eta 0:00:01\r\u001b[K     |████                            | 71 kB 6.4 MB/s eta 0:00:01\r\u001b[K     |████▋                           | 81 kB 7.0 MB/s eta 0:00:01\r\u001b[K     |█████▏                          | 92 kB 6.9 MB/s eta 0:00:01\r\u001b[K     |█████▉                          | 102 kB 7.5 MB/s eta 0:00:01\r\u001b[K     |██████▍                         | 112 kB 7.5 MB/s eta 0:00:01\r\u001b[K     |███████                         | 122 kB 7.5 MB/s eta 0:00:01\r\u001b[K     |███████▌                        | 133 kB 7.5 MB/s eta 0:00:01\r\u001b[K     |████████▏                       | 143 kB 7.5 MB/s eta 0:00:01\r\u001b[K     |████████▊                       | 153 kB 7.5 MB/s eta 0:00:01\r\u001b[K     |█████████▎                      | 163 kB 7.5 MB/s eta 0:00:01\r\u001b[K     |█████████▉                      | 174 kB 7.5 MB/s eta 0:00:01\r\u001b[K     |██████████▍                     | 184 kB 7.5 MB/s eta 0:00:01\r\u001b[K     |███████████                     | 194 kB 7.5 MB/s eta 0:00:01\r\u001b[K     |███████████▋                    | 204 kB 7.5 MB/s eta 0:00:01\r\u001b[K     |████████████▏                   | 215 kB 7.5 MB/s eta 0:00:01\r\u001b[K     |████████████▊                   | 225 kB 7.5 MB/s eta 0:00:01\r\u001b[K     |█████████████▍                  | 235 kB 7.5 MB/s eta 0:00:01\r\u001b[K     |██████████████                  | 245 kB 7.5 MB/s eta 0:00:01\r\u001b[K     |██████████████▌                 | 256 kB 7.5 MB/s eta 0:00:01\r\u001b[K     |███████████████                 | 266 kB 7.5 MB/s eta 0:00:01\r\u001b[K     |███████████████▋                | 276 kB 7.5 MB/s eta 0:00:01\r\u001b[K     |████████████████▎               | 286 kB 7.5 MB/s eta 0:00:01\r\u001b[K     |████████████████▉               | 296 kB 7.5 MB/s eta 0:00:01\r\u001b[K     |█████████████████▍              | 307 kB 7.5 MB/s eta 0:00:01\r\u001b[K     |██████████████████              | 317 kB 7.5 MB/s eta 0:00:01\r\u001b[K     |██████████████████▋             | 327 kB 7.5 MB/s eta 0:00:01\r\u001b[K     |███████████████████▏            | 337 kB 7.5 MB/s eta 0:00:01\r\u001b[K     |███████████████████▊            | 348 kB 7.5 MB/s eta 0:00:01\r\u001b[K     |████████████████████▎           | 358 kB 7.5 MB/s eta 0:00:01\r\u001b[K     |████████████████████▉           | 368 kB 7.5 MB/s eta 0:00:01\r\u001b[K     |█████████████████████▌          | 378 kB 7.5 MB/s eta 0:00:01\r\u001b[K     |██████████████████████          | 389 kB 7.5 MB/s eta 0:00:01\r\u001b[K     |██████████████████████▋         | 399 kB 7.5 MB/s eta 0:00:01\r\u001b[K     |███████████████████████▏        | 409 kB 7.5 MB/s eta 0:00:01\r\u001b[K     |███████████████████████▉        | 419 kB 7.5 MB/s eta 0:00:01\r\u001b[K     |████████████████████████▍       | 430 kB 7.5 MB/s eta 0:00:01\r\u001b[K     |█████████████████████████       | 440 kB 7.5 MB/s eta 0:00:01\r\u001b[K     |█████████████████████████▌      | 450 kB 7.5 MB/s eta 0:00:01\r\u001b[K     |██████████████████████████      | 460 kB 7.5 MB/s eta 0:00:01\r\u001b[K     |██████████████████████████▊     | 471 kB 7.5 MB/s eta 0:00:01\r\u001b[K     |███████████████████████████▎    | 481 kB 7.5 MB/s eta 0:00:01\r\u001b[K     |███████████████████████████▉    | 491 kB 7.5 MB/s eta 0:00:01\r\u001b[K     |████████████████████████████▍   | 501 kB 7.5 MB/s eta 0:00:01\r\u001b[K     |█████████████████████████████   | 512 kB 7.5 MB/s eta 0:00:01\r\u001b[K     |█████████████████████████████▋  | 522 kB 7.5 MB/s eta 0:00:01\r\u001b[K     |██████████████████████████████▏ | 532 kB 7.5 MB/s eta 0:00:01\r\u001b[K     |██████████████████████████████▊ | 542 kB 7.5 MB/s eta 0:00:01\r\u001b[K     |███████████████████████████████▎| 552 kB 7.5 MB/s eta 0:00:01\r\u001b[K     |████████████████████████████████| 563 kB 7.5 MB/s eta 0:00:01\r\u001b[K     |████████████████████████████████| 564 kB 7.5 MB/s \n",
            "\u001b[?25hRequirement already satisfied: tqdm>4.25.0 in /usr/local/lib/python3.7/dist-packages (from shap) (4.64.0)\n",
            "Requirement already satisfied: packaging>20.9 in /usr/local/lib/python3.7/dist-packages (from shap) (21.3)\n",
            "Requirement already satisfied: scipy in /usr/local/lib/python3.7/dist-packages (from shap) (1.4.1)\n",
            "Requirement already satisfied: cloudpickle in /usr/local/lib/python3.7/dist-packages (from shap) (1.3.0)\n",
            "Requirement already satisfied: scikit-learn in /usr/local/lib/python3.7/dist-packages (from shap) (1.0.2)\n",
            "Requirement already satisfied: numpy in /usr/local/lib/python3.7/dist-packages (from shap) (1.21.6)\n",
            "Collecting slicer==0.0.7\n",
            "  Downloading slicer-0.0.7-py3-none-any.whl (14 kB)\n",
            "Requirement already satisfied: numba in /usr/local/lib/python3.7/dist-packages (from shap) (0.51.2)\n",
            "Requirement already satisfied: pandas in /usr/local/lib/python3.7/dist-packages (from shap) (1.3.5)\n",
            "Requirement already satisfied: pyparsing!=3.0.5,>=2.0.2 in /usr/local/lib/python3.7/dist-packages (from packaging>20.9->shap) (3.0.8)\n",
            "Requirement already satisfied: llvmlite<0.35,>=0.34.0.dev0 in /usr/local/lib/python3.7/dist-packages (from numba->shap) (0.34.0)\n",
            "Requirement already satisfied: setuptools in /usr/local/lib/python3.7/dist-packages (from numba->shap) (57.4.0)\n",
            "Requirement already satisfied: python-dateutil>=2.7.3 in /usr/local/lib/python3.7/dist-packages (from pandas->shap) (2.8.2)\n",
            "Requirement already satisfied: pytz>=2017.3 in /usr/local/lib/python3.7/dist-packages (from pandas->shap) (2022.1)\n",
            "Requirement already satisfied: six>=1.5 in /usr/local/lib/python3.7/dist-packages (from python-dateutil>=2.7.3->pandas->shap) (1.15.0)\n",
            "Requirement already satisfied: joblib>=0.11 in /usr/local/lib/python3.7/dist-packages (from scikit-learn->shap) (1.1.0)\n",
            "Requirement already satisfied: threadpoolctl>=2.0.0 in /usr/local/lib/python3.7/dist-packages (from scikit-learn->shap) (3.1.0)\n",
            "Installing collected packages: slicer, shap\n",
            "Successfully installed shap-0.40.0 slicer-0.0.7\n"
          ]
        }
      ]
    },
    {
      "cell_type": "code",
      "execution_count": null,
      "metadata": {
        "id": "T-3FRFWsQ52m"
      },
      "outputs": [],
      "source": [
        "from sklearn.preprocessing import QuantileTransformer\n",
        "import matplotlib\n",
        "import matplotlib.pyplot as plt\n",
        "import pandas as pd\n",
        "import numpy as np\n",
        "from tqdm import tqdm_notebook\n",
        "from sklearn.metrics import mean_absolute_error, r2_score, mean_absolute_percentage_error\n",
        "from sklearn import linear_model\n",
        "import lightgbm as lgb"
      ]
    },
    {
      "cell_type": "code",
      "source": [
        "!gdown 14AK65LfYoj7aSjZOXB9HUzbhqaBaxQi0"
      ],
      "metadata": {
        "colab": {
          "base_uri": "https://localhost:8080/"
        },
        "id": "xw9sr0TJ_UP1",
        "outputId": "a443e789-857f-4c10-d564-8d9a72765e0e"
      },
      "execution_count": null,
      "outputs": [
        {
          "output_type": "stream",
          "name": "stdout",
          "text": [
            "Downloading...\n",
            "From: https://drive.google.com/uc?id=14AK65LfYoj7aSjZOXB9HUzbhqaBaxQi0\n",
            "To: /content/Matrix_complexity.csv\n",
            "\r  0% 0.00/1.39M [00:00<?, ?B/s]\r100% 1.39M/1.39M [00:00<00:00, 131MB/s]\n"
          ]
        }
      ]
    },
    {
      "cell_type": "code",
      "source": [
        "data_all = pd.read_csv('/content/Matrix_complexity.csv')"
      ],
      "metadata": {
        "id": "FlI-mTZkRSt6"
      },
      "execution_count": null,
      "outputs": []
    },
    {
      "cell_type": "code",
      "source": [
        "cols = data_all.columns\n",
        "\n",
        "cols = cols.drop(['film', 'Subj'])\n",
        "\n",
        "X = data_all.reset_index(drop=True)\n",
        "\n",
        "y = np.array(X['Labels'])\n",
        "\n",
        "X = X[cols]\n",
        "\n",
        "X = X.drop('Labels',axis=1)\n"
      ],
      "metadata": {
        "id": "t9LDTPZ7RmVG"
      },
      "execution_count": null,
      "outputs": []
    },
    {
      "cell_type": "code",
      "source": [
        "X_test = data_all.loc[(data_all['film']  == 2)].reset_index(drop=True)\n",
        "X_train = data_all.loc[(data_all['film'] != 2)].reset_index(drop=True)\n",
        "\n",
        "y_train = np.array(X_train['Labels'])\n",
        "y_test = np.array(X_test['Labels'])\n",
        "train_film = X_train['film']\n",
        "train_subj = X_train['Subj']\n",
        "test_film = X_test['film']\n",
        "test_subj = X_test['Subj']\n",
        "\n",
        "X_train = X_train[cols]\n",
        "X_test = X_test[cols]\n",
        "\n",
        "X_train = X_train.drop('Labels',axis=1)\n",
        "X_test = X_test.drop('Labels',axis=1)"
      ],
      "metadata": {
        "id": "H3LQ-98HRgr8"
      },
      "execution_count": null,
      "outputs": []
    },
    {
      "cell_type": "code",
      "source": [
        "param = {}\n",
        "param['metric'] = ['MAPE', 'MAE', 'R2']\n",
        "train_data = lightgbm.Dataset(data_all)"
      ],
      "metadata": {
        "colab": {
          "base_uri": "https://localhost:8080/",
          "height": 200
        },
        "id": "WHDMMCZtRp6v",
        "outputId": "8b3652d8-08b9-4f0c-d4a6-bdd0c86816a2"
      },
      "execution_count": null,
      "outputs": [
        {
          "output_type": "error",
          "ename": "NameError",
          "evalue": "ignored",
          "traceback": [
            "\u001b[0;31m---------------------------------------------------------------------------\u001b[0m",
            "\u001b[0;31mNameError\u001b[0m                                 Traceback (most recent call last)",
            "\u001b[0;32m<ipython-input-8-01cd51089ae5>\u001b[0m in \u001b[0;36m<module>\u001b[0;34m()\u001b[0m\n\u001b[1;32m      1\u001b[0m \u001b[0mparam\u001b[0m \u001b[0;34m=\u001b[0m \u001b[0;34m{\u001b[0m\u001b[0;34m}\u001b[0m\u001b[0;34m\u001b[0m\u001b[0;34m\u001b[0m\u001b[0m\n\u001b[1;32m      2\u001b[0m \u001b[0mparam\u001b[0m\u001b[0;34m[\u001b[0m\u001b[0;34m'metric'\u001b[0m\u001b[0;34m]\u001b[0m \u001b[0;34m=\u001b[0m \u001b[0;34m[\u001b[0m\u001b[0;34m'MAPE'\u001b[0m\u001b[0;34m,\u001b[0m \u001b[0;34m'MAE'\u001b[0m\u001b[0;34m,\u001b[0m \u001b[0;34m'R2'\u001b[0m\u001b[0;34m]\u001b[0m\u001b[0;34m\u001b[0m\u001b[0;34m\u001b[0m\u001b[0m\n\u001b[0;32m----> 3\u001b[0;31m \u001b[0mtrain_data\u001b[0m \u001b[0;34m=\u001b[0m \u001b[0mlightgbm\u001b[0m\u001b[0;34m.\u001b[0m\u001b[0mDataset\u001b[0m\u001b[0;34m(\u001b[0m\u001b[0mdata_all\u001b[0m\u001b[0;34m)\u001b[0m\u001b[0;34m\u001b[0m\u001b[0;34m\u001b[0m\u001b[0m\n\u001b[0m",
            "\u001b[0;31mNameError\u001b[0m: name 'lightgbm' is not defined"
          ]
        }
      ]
    },
    {
      "cell_type": "code",
      "source": [
        "num_round = 100\n",
        "bst = lightgbm.train(param, train_data, num_round)"
      ],
      "metadata": {
        "id": "aAUwEFZoR2ta"
      },
      "execution_count": null,
      "outputs": []
    },
    {
      "cell_type": "code",
      "source": [
        "ypred = bst.predict(X_test)\n",
        "ypred"
      ],
      "metadata": {
        "id": "tbjDpzK0S8Pk"
      },
      "execution_count": null,
      "outputs": []
    },
    {
      "cell_type": "code",
      "source": [
        "models = ['lightgbm']\n",
        "metrics = ['MAPE', 'MAE', 'R2']\n",
        "formes = ['inverted', 'average']\n",
        "columns = [\n",
        "    np.array([models[i] for i in range(1) for j in range(3) for k in range(2)]),\n",
        "    np.array([metrics[j] for i in range(1) for j in range(3) for k in range(2)]),\n",
        "    np.array([formes[k] for i in range(1) for j in range(3) for k in range(2)]),\n",
        "]\n",
        "chans = ['Fz', 'F3', 'F7','C3', 'T7', 'Pz', 'P3','P7', 'O1', 'Oz', 'O2','P4', 'P8', 'Cz','C4', 'T8', 'F4', 'F8']"
      ],
      "metadata": {
        "id": "w5qg3mp7HWBK"
      },
      "execution_count": null,
      "outputs": []
    },
    {
      "cell_type": "code",
      "source": [
        "import tqdm\n",
        "\n",
        "result = pd.DataFrame()\n",
        "grid_res = []\n",
        "n_films = 8\n",
        "n_subjects = 32\n",
        "for column in data_all.columns:\n",
        "    data_all[column] = data_all[column].fillna(0)\n",
        "\n",
        "\n",
        "for film in tqdm.tqdm_notebook(range(1, n_films + 1)):\n",
        "\n",
        "  df = pd.DataFrame(np.random.randn(1, 1 * 3 * 2), columns=columns)\n",
        "  X_test = data_all.loc[(data_all['film'] == film)].reset_index(drop=True)\n",
        "  X_train = data_all.loc[(data_all['film'] != film)].reset_index(drop=True)\n",
        "  X_train = X_train.sample(frac=1)\n",
        "  X_test = X_test.sample(frac=1)\n",
        "\n",
        "  y_train = X_train['Labels']\n",
        "  y_test_inv = np.array(X_test['Labels'])\n",
        "  train_film = X_train['film']\n",
        "  train_subj = X_train['Subj']\n",
        "  test_film = X_test['film']\n",
        "  test_subj = X_test['Subj']\n",
        "  \n",
        "  X_train = X_train.drop(['film', 'Subj', 'Labels'], axis=1)\n",
        "  X_test = X_test.drop(['film', 'Subj', 'Labels'], axis=1)\n",
        "  \n",
        "  qt_train = QuantileTransformer(output_distribution='normal',\n",
        "                            copy=True)\n",
        "  y_train = pd.DataFrame(qt_train.fit_transform(np.array(y_train).reshape(-1, 1)))\n",
        "  qt_test = QuantileTransformer(output_distribution='normal',\n",
        "                            copy=True)\n",
        "  y_test = pd.DataFrame(qt_test.fit_transform(np.array(y_test_inv).reshape(-1, 1)))\n",
        "\n",
        "  lgb_train = lgb.Dataset(X_train, y_train)\n",
        "  lgb_eval = lgb.Dataset(X_test, y_test, reference=lgb_train)\n",
        "  params = {\n",
        "      'boosting_type': 'gbdt',\n",
        "      'objective': 'regression',\n",
        "      'metric': {'l2', 'l1'},\n",
        "      'num_leaves': 31,\n",
        "      'learning_rate': 0.05,\n",
        "      'feature_fraction': 0.9,\n",
        "      'bagging_fraction': 0.8,\n",
        "      'bagging_freq': 5,\n",
        "      'verbose': 0\n",
        "  }\n",
        "\n",
        "  print('Starting training...')\n",
        "  # train\n",
        "  gbm = lgb.train(params,\n",
        "                  lgb_train,\n",
        "                  num_boost_round=20,\n",
        "                  valid_sets=lgb_eval,\n",
        "                  callbacks=[lgb.early_stopping(stopping_rounds=5)])\n",
        "\n",
        "\n",
        "  y_pred =  gbm.predict(X_test, num_iteration=gbm.best_iteration)\n",
        "  preds = qt_test.inverse_transform(np.array(y_pred).reshape(-1, 1))\n",
        "  # df[('lightgbm', 'R2', 'inverted')] = r2_score(preds, y_test_inv)\n",
        "  df[('lightgbm', 'MAPE', 'inverted')] = mean_absolute_percentage_error(preds, y_test_inv)\n",
        "  df[('lightgbm', 'MAE', 'inverted')] = mean_absolute_error(preds, y_test_inv)\n",
        "  \n",
        "  pred = [[0 for j in range(n_films)] for i in range(n_subjects)]\n",
        "  num_chans = [[0 for j in range(n_films)] for i in range(n_subjects)]\n",
        "  labels = [[0 for j in range(n_films)] for i in range(n_subjects)]\n",
        "  lbl = [[0 for j in range(n_films)] for i in range(n_subjects)]\n",
        "  channels = [[] for i in range(n_subjects)]\n",
        "  for i in range(len(preds)):\n",
        "      pred[np.array(test_subj)[i] - 1][np.array(test_film)[i] - 1] += preds[i]\n",
        "      num_chans[np.array(test_subj)[i] - 1][np.array(test_film)[i] - 1] += 1\n",
        "      labels[np.array(test_subj)[i] - 1][np.array(test_film)[i] - 1] += y_test_inv[i]\n",
        "  labels = np.array(labels).astype(np.float64) / np.array(num_chans).astype(np.float64)\n",
        "  pred = np.array(pred).astype(np.float64) / np.array(num_chans).astype(np.float64)\n",
        "  labels = np.nan_to_num(labels)\n",
        "  pred = np.nan_to_num(pred)\n",
        "  predicted = []\n",
        "  lbl = []\n",
        "  for i in range(len(labels)):\n",
        "      if sum(labels[i]) != 0:\n",
        "          for j in range(n_films):\n",
        "              if labels[i][j] != 0:\n",
        "                  lbl.append(labels[i][j])  \n",
        "                  predicted.append(pred[i][j])\n",
        "\n",
        "  # df[('lightgbm', 'R2', 'average')] = r2_score(lbl, predicted)\n",
        "  df[('lightgbm', 'MAPE', 'average')] = mean_absolute_percentage_error(lbl, predicted)\n",
        "  df[('lightgbm', 'MAE', 'average')] = mean_absolute_error(lbl, predicted)\n",
        "  result = pd.concat([result, df], axis=0)"
      ],
      "metadata": {
        "id": "TXc4z5W0S8WF"
      },
      "execution_count": null,
      "outputs": []
    },
    {
      "cell_type": "code",
      "source": [
        "result.describe()"
      ],
      "metadata": {
        "colab": {
          "base_uri": "https://localhost:8080/",
          "height": 363
        },
        "id": "hgWeOPuGHSBl",
        "outputId": "8d4a2e70-4deb-438e-ac79-e3b6e7ab53d8"
      },
      "execution_count": null,
      "outputs": [
        {
          "output_type": "execute_result",
          "data": {
            "text/plain": [
              "       lightgbm                                                  \n",
              "           MAPE                 MAE                  R2          \n",
              "       inverted   average  inverted   average  inverted   average\n",
              "count  8.000000  8.000000  8.000000  8.000000  8.000000  8.000000\n",
              "mean   0.263726  0.519164  1.753069  1.753069 -0.004663  0.433667\n",
              "std    0.060842  0.213385  0.347841  0.347841  0.521453  0.520626\n",
              "min    0.205798  0.345098  1.302197  1.302197 -0.663790 -0.289797\n",
              "25%    0.212793  0.361842  1.470238  1.470238 -0.237151  0.096423\n",
              "50%    0.260820  0.395873  1.719870  1.719870 -0.166687  0.359981\n",
              "75%    0.281077  0.696760  2.101942  2.101942  0.093874  0.705609\n",
              "max    0.387841  0.878067  2.177630  2.177630  1.083310  1.261408"
            ],
            "text/html": [
              "\n",
              "  <div id=\"df-0f166693-f6bf-48ac-8dc2-ce2ca880693e\">\n",
              "    <div class=\"colab-df-container\">\n",
              "      <div>\n",
              "<style scoped>\n",
              "    .dataframe tbody tr th:only-of-type {\n",
              "        vertical-align: middle;\n",
              "    }\n",
              "\n",
              "    .dataframe tbody tr th {\n",
              "        vertical-align: top;\n",
              "    }\n",
              "\n",
              "    .dataframe thead tr th {\n",
              "        text-align: left;\n",
              "    }\n",
              "</style>\n",
              "<table border=\"1\" class=\"dataframe\">\n",
              "  <thead>\n",
              "    <tr>\n",
              "      <th></th>\n",
              "      <th colspan=\"6\" halign=\"left\">lightgbm</th>\n",
              "    </tr>\n",
              "    <tr>\n",
              "      <th></th>\n",
              "      <th colspan=\"2\" halign=\"left\">MAPE</th>\n",
              "      <th colspan=\"2\" halign=\"left\">MAE</th>\n",
              "      <th colspan=\"2\" halign=\"left\">R2</th>\n",
              "    </tr>\n",
              "    <tr>\n",
              "      <th></th>\n",
              "      <th>inverted</th>\n",
              "      <th>average</th>\n",
              "      <th>inverted</th>\n",
              "      <th>average</th>\n",
              "      <th>inverted</th>\n",
              "      <th>average</th>\n",
              "    </tr>\n",
              "  </thead>\n",
              "  <tbody>\n",
              "    <tr>\n",
              "      <th>count</th>\n",
              "      <td>8.000000</td>\n",
              "      <td>8.000000</td>\n",
              "      <td>8.000000</td>\n",
              "      <td>8.000000</td>\n",
              "      <td>8.000000</td>\n",
              "      <td>8.000000</td>\n",
              "    </tr>\n",
              "    <tr>\n",
              "      <th>mean</th>\n",
              "      <td>0.263726</td>\n",
              "      <td>0.519164</td>\n",
              "      <td>1.753069</td>\n",
              "      <td>1.753069</td>\n",
              "      <td>-0.004663</td>\n",
              "      <td>0.433667</td>\n",
              "    </tr>\n",
              "    <tr>\n",
              "      <th>std</th>\n",
              "      <td>0.060842</td>\n",
              "      <td>0.213385</td>\n",
              "      <td>0.347841</td>\n",
              "      <td>0.347841</td>\n",
              "      <td>0.521453</td>\n",
              "      <td>0.520626</td>\n",
              "    </tr>\n",
              "    <tr>\n",
              "      <th>min</th>\n",
              "      <td>0.205798</td>\n",
              "      <td>0.345098</td>\n",
              "      <td>1.302197</td>\n",
              "      <td>1.302197</td>\n",
              "      <td>-0.663790</td>\n",
              "      <td>-0.289797</td>\n",
              "    </tr>\n",
              "    <tr>\n",
              "      <th>25%</th>\n",
              "      <td>0.212793</td>\n",
              "      <td>0.361842</td>\n",
              "      <td>1.470238</td>\n",
              "      <td>1.470238</td>\n",
              "      <td>-0.237151</td>\n",
              "      <td>0.096423</td>\n",
              "    </tr>\n",
              "    <tr>\n",
              "      <th>50%</th>\n",
              "      <td>0.260820</td>\n",
              "      <td>0.395873</td>\n",
              "      <td>1.719870</td>\n",
              "      <td>1.719870</td>\n",
              "      <td>-0.166687</td>\n",
              "      <td>0.359981</td>\n",
              "    </tr>\n",
              "    <tr>\n",
              "      <th>75%</th>\n",
              "      <td>0.281077</td>\n",
              "      <td>0.696760</td>\n",
              "      <td>2.101942</td>\n",
              "      <td>2.101942</td>\n",
              "      <td>0.093874</td>\n",
              "      <td>0.705609</td>\n",
              "    </tr>\n",
              "    <tr>\n",
              "      <th>max</th>\n",
              "      <td>0.387841</td>\n",
              "      <td>0.878067</td>\n",
              "      <td>2.177630</td>\n",
              "      <td>2.177630</td>\n",
              "      <td>1.083310</td>\n",
              "      <td>1.261408</td>\n",
              "    </tr>\n",
              "  </tbody>\n",
              "</table>\n",
              "</div>\n",
              "      <button class=\"colab-df-convert\" onclick=\"convertToInteractive('df-0f166693-f6bf-48ac-8dc2-ce2ca880693e')\"\n",
              "              title=\"Convert this dataframe to an interactive table.\"\n",
              "              style=\"display:none;\">\n",
              "        \n",
              "  <svg xmlns=\"http://www.w3.org/2000/svg\" height=\"24px\"viewBox=\"0 0 24 24\"\n",
              "       width=\"24px\">\n",
              "    <path d=\"M0 0h24v24H0V0z\" fill=\"none\"/>\n",
              "    <path d=\"M18.56 5.44l.94 2.06.94-2.06 2.06-.94-2.06-.94-.94-2.06-.94 2.06-2.06.94zm-11 1L8.5 8.5l.94-2.06 2.06-.94-2.06-.94L8.5 2.5l-.94 2.06-2.06.94zm10 10l.94 2.06.94-2.06 2.06-.94-2.06-.94-.94-2.06-.94 2.06-2.06.94z\"/><path d=\"M17.41 7.96l-1.37-1.37c-.4-.4-.92-.59-1.43-.59-.52 0-1.04.2-1.43.59L10.3 9.45l-7.72 7.72c-.78.78-.78 2.05 0 2.83L4 21.41c.39.39.9.59 1.41.59.51 0 1.02-.2 1.41-.59l7.78-7.78 2.81-2.81c.8-.78.8-2.07 0-2.86zM5.41 20L4 18.59l7.72-7.72 1.47 1.35L5.41 20z\"/>\n",
              "  </svg>\n",
              "      </button>\n",
              "      \n",
              "  <style>\n",
              "    .colab-df-container {\n",
              "      display:flex;\n",
              "      flex-wrap:wrap;\n",
              "      gap: 12px;\n",
              "    }\n",
              "\n",
              "    .colab-df-convert {\n",
              "      background-color: #E8F0FE;\n",
              "      border: none;\n",
              "      border-radius: 50%;\n",
              "      cursor: pointer;\n",
              "      display: none;\n",
              "      fill: #1967D2;\n",
              "      height: 32px;\n",
              "      padding: 0 0 0 0;\n",
              "      width: 32px;\n",
              "    }\n",
              "\n",
              "    .colab-df-convert:hover {\n",
              "      background-color: #E2EBFA;\n",
              "      box-shadow: 0px 1px 2px rgba(60, 64, 67, 0.3), 0px 1px 3px 1px rgba(60, 64, 67, 0.15);\n",
              "      fill: #174EA6;\n",
              "    }\n",
              "\n",
              "    [theme=dark] .colab-df-convert {\n",
              "      background-color: #3B4455;\n",
              "      fill: #D2E3FC;\n",
              "    }\n",
              "\n",
              "    [theme=dark] .colab-df-convert:hover {\n",
              "      background-color: #434B5C;\n",
              "      box-shadow: 0px 1px 3px 1px rgba(0, 0, 0, 0.15);\n",
              "      filter: drop-shadow(0px 1px 2px rgba(0, 0, 0, 0.3));\n",
              "      fill: #FFFFFF;\n",
              "    }\n",
              "  </style>\n",
              "\n",
              "      <script>\n",
              "        const buttonEl =\n",
              "          document.querySelector('#df-0f166693-f6bf-48ac-8dc2-ce2ca880693e button.colab-df-convert');\n",
              "        buttonEl.style.display =\n",
              "          google.colab.kernel.accessAllowed ? 'block' : 'none';\n",
              "\n",
              "        async function convertToInteractive(key) {\n",
              "          const element = document.querySelector('#df-0f166693-f6bf-48ac-8dc2-ce2ca880693e');\n",
              "          const dataTable =\n",
              "            await google.colab.kernel.invokeFunction('convertToInteractive',\n",
              "                                                     [key], {});\n",
              "          if (!dataTable) return;\n",
              "\n",
              "          const docLinkHtml = 'Like what you see? Visit the ' +\n",
              "            '<a target=\"_blank\" href=https://colab.research.google.com/notebooks/data_table.ipynb>data table notebook</a>'\n",
              "            + ' to learn more about interactive tables.';\n",
              "          element.innerHTML = '';\n",
              "          dataTable['output_type'] = 'display_data';\n",
              "          await google.colab.output.renderOutput(dataTable, element);\n",
              "          const docLink = document.createElement('div');\n",
              "          docLink.innerHTML = docLinkHtml;\n",
              "          element.appendChild(docLink);\n",
              "        }\n",
              "      </script>\n",
              "    </div>\n",
              "  </div>\n",
              "  "
            ]
          },
          "metadata": {},
          "execution_count": 14
        }
      ]
    }
  ]
}