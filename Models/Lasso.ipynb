{
  "nbformat": 4,
  "nbformat_minor": 0,
  "metadata": {
    "colab": {
      "name": "Lasso.ipynb",
      "provenance": []
    },
    "kernelspec": {
      "name": "python3",
      "display_name": "Python 3"
    },
    "language_info": {
      "name": "python"
    }
  },
  "cells": [
    {
      "cell_type": "code",
      "execution_count": null,
      "metadata": {
        "id": "cznArucoHG14"
      },
      "outputs": [],
      "source": [
        "import pandas as pd\n",
        "import numpy as np"
      ]
    },
    {
      "cell_type": "code",
      "source": [
        "!gdown --id 1CWCo7GFk3lZky1EXjZ6XpHZS5tUbBOj1"
      ],
      "metadata": {
        "colab": {
          "base_uri": "https://localhost:8080/"
        },
        "id": "TdlNfoeSH-hn",
        "outputId": "f1c4fa65-1cae-4194-92a7-6435b3d39228"
      },
      "execution_count": null,
      "outputs": [
        {
          "output_type": "stream",
          "name": "stdout",
          "text": [
            "Downloading...\n",
            "From: https://drive.google.com/uc?id=1CWCo7GFk3lZky1EXjZ6XpHZS5tUbBOj1\n",
            "To: /content/Features_no_filtering_ordered.csv\n",
            "100% 83.2M/83.2M [00:01<00:00, 75.4MB/s]\n"
          ]
        }
      ]
    },
    {
      "cell_type": "code",
      "source": [
        "data = pd.read_csv('/content/Features_no_filtering_ordered.csv')\n",
        "data.iloc[:,200:]\n",
        "to_delete = np.array(data.columns[156:204])\n",
        "data.drop(columns=to_delete, inplace=True)"
      ],
      "metadata": {
        "id": "TMBRADEfHRj7"
      },
      "execution_count": null,
      "outputs": []
    },
    {
      "cell_type": "code",
      "source": [
        "X_test = data.loc[(data['film'] == 41)].reset_index(drop=True)\n",
        "X_train = data.loc[(data['film'] != 41)].reset_index(drop=True)\n",
        "\n",
        "X_train = X_train.sample(frac=1)\n",
        "X_test = X_test.sample(frac=1)\n",
        "\n",
        "y_train = X_train['labels']\n",
        "y_test = X_test['labels']\n",
        "\n",
        "train_film = X_train['film']\n",
        "train_subj = X_train['Subj']\n",
        "train_ch = X_train['ch']\n",
        "test_film = X_test['film']\n",
        "test_subj = X_test['Subj']\n",
        "test_ch = X_test['ch']\n",
        "X_train = X_train.drop(['labels', 'ch', 'Subj', 'film'], axis=1)\n",
        "X_test = X_test.drop(['labels', 'ch', 'Subj', 'film'], axis=1)"
      ],
      "metadata": {
        "id": "tFiMC8_oHYzx"
      },
      "execution_count": null,
      "outputs": []
    },
    {
      "cell_type": "code",
      "source": [
        "from sklearn.preprocessing import QuantileTransformer\n",
        "qt_train = QuantileTransformer(output_distribution='normal', copy=True)\n",
        "y_train = pd.DataFrame(qt_train.fit_transform(np.array(y_train).reshape(-1, 1)))\n",
        "qt_test = QuantileTransformer(output_distribution='normal', copy=True)\n",
        "y_test = pd.DataFrame(qt_test.fit_transform(np.array(y_test).reshape(-1, 1)))"
      ],
      "metadata": {
        "colab": {
          "base_uri": "https://localhost:8080/"
        },
        "id": "6cv3uT6sHa5B",
        "outputId": "750f2ab0-32d4-413b-91ae-0a2dd1bf0cbe"
      },
      "execution_count": null,
      "outputs": [
        {
          "output_type": "stream",
          "name": "stderr",
          "text": [
            "/usr/local/lib/python3.7/dist-packages/sklearn/preprocessing/_data.py:2593: UserWarning: n_quantiles (1000) is greater than the total number of samples (126). n_quantiles is set to n_samples.\n",
            "  \"n_samples.\" % (self.n_quantiles, n_samples)\n"
          ]
        }
      ]
    },
    {
      "cell_type": "code",
      "source": [
        "y_train.hist()"
      ],
      "metadata": {
        "colab": {
          "base_uri": "https://localhost:8080/",
          "height": 316
        },
        "id": "jhP9vVpcLZQY",
        "outputId": "928acbe6-408b-4718-a34e-4000e1c432a9"
      },
      "execution_count": null,
      "outputs": [
        {
          "output_type": "execute_result",
          "data": {
            "text/plain": [
              "array([[<matplotlib.axes._subplots.AxesSubplot object at 0x7feb30a33b50>]],\n",
              "      dtype=object)"
            ]
          },
          "metadata": {},
          "execution_count": 8
        },
        {
          "output_type": "display_data",
          "data": {
            "image/png": "[encoded data removed]",
            "text/plain": [
              "<Figure size 432x288 with 1 Axes>"
            ]
          },
          "metadata": {
            "needs_background": "light"
          }
        }
      ]
    },
    {
      "cell_type": "code",
      "source": [
        "y_test.hist()"
      ],
      "metadata": {
        "colab": {
          "base_uri": "https://localhost:8080/",
          "height": 316
        },
        "id": "8c9UCKVGLZZV",
        "outputId": "b4d02b46-7ec2-4a98-a041-9e6f27d27598"
      },
      "execution_count": null,
      "outputs": [
        {
          "output_type": "execute_result",
          "data": {
            "text/plain": [
              "array([[<matplotlib.axes._subplots.AxesSubplot object at 0x7feb3093ef50>]],\n",
              "      dtype=object)"
            ]
          },
          "metadata": {},
          "execution_count": 9
        },
        {
          "output_type": "display_data",
          "data": {
            "image/png": "[encoded data removed]",
            "text/plain": [
              "<Figure size 432x288 with 1 Axes>"
            ]
          },
          "metadata": {
            "needs_background": "light"
          }
        }
      ]
    },
    {
      "cell_type": "code",
      "source": [
        "from sklearn import linear_model\n",
        "\n",
        "model = linear_model.LassoCV()\n",
        "model.fit(X_train, y_train)"
      ],
      "metadata": {
        "id": "d3R_rgaiRwBD"
      },
      "execution_count": null,
      "outputs": []
    },
    {
      "cell_type": "code",
      "source": [
        "import matplotlib.pyplot as plt\n",
        "import seaborn as sns\n",
        "\n",
        "def show_weights(features, weights, scales, a = 0, b = 0):\n",
        "    fig, axs = plt.subplots(figsize=(14, 10), ncols=2)\n",
        "    sorted_weights = sorted(zip(weights, features, scales), reverse=True)\n",
        "    weights = [x[0] for x in sorted_weights]\n",
        "    features = [x[1] for x in sorted_weights]\n",
        "    scales = [x[2] for x in sorted_weights]\n",
        "    sns.barplot(y=features, x=weights, ax=axs[0])\n",
        "    axs[0].set_xlabel(\"Weight\")\n",
        "    sns.barplot(y=features, x=scales, ax=axs[1])\n",
        "    axs[1].set_xlabel(\"Scale\")\n",
        "    plt.tight_layout()\n",
        "    return features[a:b], weights[a:b]"
      ],
      "metadata": {
        "id": "fZq09mxONA5n"
      },
      "execution_count": null,
      "outputs": []
    },
    {
      "cell_type": "code",
      "source": [
        "from sklearn.feature_selection import SelectFromModel\n",
        "selector = SelectFromModel(estimator=model, max_features=50, prefit=True)\n",
        "X_selected_train = selector.transform(X_train)\n",
        "X_selected_test = selector.transform(X_test)"
      ],
      "metadata": {
        "colab": {
          "base_uri": "https://localhost:8080/"
        },
        "id": "0_mbmRRkNR8_",
        "outputId": "2f33913c-2ac3-47cf-c7b5-e14f7e172570"
      },
      "execution_count": null,
      "outputs": [
        {
          "output_type": "stream",
          "name": "stderr",
          "text": [
            "/usr/local/lib/python3.7/dist-packages/sklearn/base.py:444: UserWarning: X has feature names, but SelectFromModel was fitted without feature names\n",
            "  f\"X has feature names, but {self.__class__.__name__} was fitted without\"\n",
            "/usr/local/lib/python3.7/dist-packages/sklearn/base.py:444: UserWarning: X has feature names, but SelectFromModel was fitted without feature names\n",
            "  f\"X has feature names, but {self.__class__.__name__} was fitted without\"\n"
          ]
        }
      ]
    },
    {
      "cell_type": "code",
      "source": [
        "data_selected = data\n",
        "data_selected = data_selected.drop(['labels', 'ch', 'Subj', 'film'], axis=1)\n",
        "for i in range(data_selected.shape[1]):\n",
        "  if not selector.get_support()[i]:\n",
        "    data_selected.drop(data.columns[i], axis=1, inplace=True)"
      ],
      "metadata": {
        "id": "sUOqXYDONFCy"
      },
      "execution_count": null,
      "outputs": []
    },
    {
      "cell_type": "code",
      "source": [
        "print(\"Best alpha using built-in LassoCV: %f\" % model.alpha_)\n",
        "print(\"Best score using built-in LassoCV: %f\" % model.score(X_train, y_train))\n",
        "coef = pd.Series(model.coef_, index = X_train.columns)\n",
        "\n",
        "print(\"Lasso picked \" + str(sum(coef != 0)) + \" variables and eliminated the other \" +  str(sum(coef == 0)) + \" variables\")\n",
        "\n",
        "imp_coef = coef.sort_values()\n",
        "import matplotlib\n",
        "matplotlib.rcParams['figure.figsize'] = (10.0, 50.0)\n",
        "imp_coef.plot(kind = \"barh\")\n",
        "plt.title(\"Feature importance using Lasso Model\")"
      ],
      "metadata": {
        "id": "-YbPJis9ScAT"
      },
      "execution_count": null,
      "outputs": []
    },
    {
      "cell_type": "code",
      "source": [
        "show_weights(data_selected.columns, model.coef_, X_train[data_selected.columns].std())"
      ],
      "metadata": {
        "colab": {
          "base_uri": "https://localhost:8080/",
          "height": 506
        },
        "id": "BelNhnqkSzF0",
        "outputId": "c10c62b9-f99f-4c96-9537-505677a96ea8"
      },
      "execution_count": null,
      "outputs": [
        {
          "output_type": "execute_result",
          "data": {
            "text/plain": [
              "([], [])"
            ]
          },
          "metadata": {},
          "execution_count": 15
        },
        {
          "output_type": "display_data",
          "data": {
            "image/png": "[encoded data removed]",
            "text/plain": [
              "<Figure size 1008x720 with 2 Axes>"
            ]
          },
          "metadata": {
            "needs_background": "light"
          }
        }
      ]
    },
    {
      "cell_type": "code",
      "source": [
        "from sklearn.preprocessing import QuantileTransformer\n",
        "import matplotlib\n",
        "import matplotlib.pyplot as plt\n",
        "import pandas as pd\n",
        "import numpy as np\n",
        "from tqdm import tqdm_notebook\n",
        "from sklearn.metrics import mean_absolute_error, r2_score, mean_absolute_percentage_error\n",
        "from sklearn import linear_model\n"
      ],
      "metadata": {
        "id": "JbTxNNwpbdfU"
      },
      "execution_count": null,
      "outputs": []
    },
    {
      "cell_type": "code",
      "source": [
        "data_all = pd.read_csv('/content/Features_no_filtering_ordered.csv')"
      ],
      "metadata": {
        "id": "ol8W7Vj3b2wM"
      },
      "execution_count": null,
      "outputs": []
    },
    {
      "cell_type": "code",
      "source": [
        "models = ['Lasso']\n",
        "metrics = ['MAPE', 'MAE', 'R2']\n",
        "formes = ['inverted', 'average']\n",
        "columns = [\n",
        "    np.array([models[i] for i in range(1) for j in range(3) for k in range(2)]),\n",
        "    np.array([metrics[j] for i in range(1) for j in range(3) for k in range(2)]),\n",
        "    np.array([formes[k] for i in range(1) for j in range(3) for k in range(2)]),\n",
        "]\n",
        "chans = ['Fz', 'F3', 'F7','C3', 'T7', 'Pz', 'P3','P7', 'O1', 'Oz', 'O2','P4', 'P8', 'Cz','C4', 'T8', 'F4', 'F8']\n"
      ],
      "metadata": {
        "id": "zVGxe9z4bsxk"
      },
      "execution_count": null,
      "outputs": []
    },
    {
      "cell_type": "code",
      "source": [
        "result = pd.DataFrame()\n",
        "grid_res = []\n",
        "n_films = 40\n",
        "n_subjects = 32\n",
        "for film in tqdm_notebook(range(1, n_films + 1)):\n",
        "    df = pd.DataFrame(np.random.randn(1, 1 * 3 * 2), columns=columns)\n",
        "    X_test = data_all.loc[(data_all['film'] == film)].reset_index(drop=True)\n",
        "    X_train = data_all.loc[(data_all['film'] != film)].reset_index(drop=True)\n",
        "    X_train = X_train.sample(frac=1)\n",
        "    X_test = X_test.sample(frac=1)\n",
        "\n",
        "    y_train = X_train['labels']\n",
        "    y_test_inv = np.array(X_test['labels'])\n",
        "    train_film = X_train['film']\n",
        "    train_subj = X_train['Subj']\n",
        "    train_ch = X_train['ch']\n",
        "    test_film = X_test['film']\n",
        "    test_subj = X_test['Subj']\n",
        "    test_ch = np.array(X_test['ch'])\n",
        "    \n",
        "    X_train = X_train.drop(['film', 'Subj', 'labels'], axis=1)\n",
        "    X_test = X_test.drop(['film', 'Subj', 'labels'], axis=1)\n",
        "    \n",
        "    qt_train = QuantileTransformer(output_distribution='normal',\n",
        "                             copy=True)\n",
        "    y_train = pd.DataFrame(qt_train.fit_transform(np.array(y_train).reshape(-1, 1)))\n",
        "    qt_test = QuantileTransformer(output_distribution='normal',\n",
        "                             copy=True)\n",
        "    y_test = pd.DataFrame(qt_test.fit_transform(np.array(y_test_inv).reshape(-1, 1)))\n",
        "    \n",
        "    model = linear_model.LassoCV()\n",
        "    model.fit(X_train, y_train)\n",
        "    y_pred = model.predict(X_test)\n",
        "    preds = qt_test.inverse_transform(np.array(y_pred).reshape(-1, 1))\n",
        "    df[('Lasso', 'R2', 'inverted')] = r2_score(preds, y_test_inv)\n",
        "    df[('Lasso', 'MAPE', 'inverted')] = mean_absolute_percentage_error(preds, y_test_inv)\n",
        "    df[('Lasso', 'MAE', 'inverted')] = mean_absolute_error(preds, y_test_inv)\n",
        "    \n",
        "    pred = [[0 for j in range(n_films)] for i in range(n_subjects)]\n",
        "    num_chans = [[0 for j in range(n_films)] for i in range(n_subjects)]\n",
        "    labels = [[0 for j in range(n_films)] for i in range(n_subjects)]\n",
        "    lbl = [[0 for j in range(n_films)] for i in range(n_subjects)]\n",
        "    channels = [[] for i in range(n_subjects)]\n",
        "    for i in range(len(preds)):\n",
        "        pred[np.array(test_subj)[i] - 1][np.array(test_film)[i] - 1] += preds[i]\n",
        "        num_chans[np.array(test_subj)[i] - 1][np.array(test_film)[i] - 1] += 1\n",
        "        labels[np.array(test_subj)[i] - 1][np.array(test_film)[i] - 1] += y_test_inv[i]\n",
        "        channels[np.array(test_subj)[i] - 1].append(chans[test_ch[i] - 1])\n",
        "    labels = np.array(labels).astype(np.float64) / np.array(num_chans).astype(np.float64)\n",
        "    pred = np.array(pred).astype(np.float64) / np.array(num_chans).astype(np.float64)\n",
        "    labels = np.nan_to_num(labels)\n",
        "    pred = np.nan_to_num(pred)\n",
        "    predicted = []\n",
        "    lbl = []\n",
        "    for i in range(len(labels)):\n",
        "        if sum(labels[i]) != 0:\n",
        "            for j in range(n_films):\n",
        "                if labels[i][j] != 0:\n",
        "                    lbl.append(labels[i][j])  \n",
        "                    predicted.append(pred[i][j])\n",
        "\n",
        "    df[('Lasso', 'R2', 'average')] = r2_score(lbl, predicted)\n",
        "    df[('Lasso', 'MAPE', 'average')] = mean_absolute_percentage_error(lbl, predicted)\n",
        "    df[('Lasso', 'MAE', 'average')] = mean_absolute_error(lbl, predicted)\n",
        "    result = pd.concat([result, df], axis=0)\n"
      ],
      "metadata": {
        "id": "OayH3MtWa9W-"
      },
      "execution_count": null,
      "outputs": []
    },
    {
      "cell_type": "code",
      "source": [
        "result.describe()"
      ],
      "metadata": {
        "colab": {
          "base_uri": "https://localhost:8080/",
          "height": 362
        },
        "id": "B7UIjEitbUtr",
        "outputId": "116c7a03-59bd-4d9f-c767-f3fc72386c8d"
      },
      "execution_count": null,
      "outputs": [
        {
          "output_type": "execute_result",
          "data": {
            "text/html": [
              "\n",
              "  <div id=\"df-8d405d94-50dc-4e82-a72d-8ebbbeb0a754\">\n",
              "    <div class=\"colab-df-container\">\n",
              "      <div>\n",
              "<style scoped>\n",
              "    .dataframe tbody tr th:only-of-type {\n",
              "        vertical-align: middle;\n",
              "    }\n",
              "\n",
              "    .dataframe tbody tr th {\n",
              "        vertical-align: top;\n",
              "    }\n",
              "\n",
              "    .dataframe thead tr th {\n",
              "        text-align: left;\n",
              "    }\n",
              "</style>\n",
              "<table border=\"1\" class=\"dataframe\">\n",
              "  <thead>\n",
              "    <tr>\n",
              "      <th></th>\n",
              "      <th colspan=\"6\" halign=\"left\">Lasso</th>\n",
              "    </tr>\n",
              "    <tr>\n",
              "      <th></th>\n",
              "      <th colspan=\"2\" halign=\"left\">MAPE</th>\n",
              "      <th colspan=\"2\" halign=\"left\">MAE</th>\n",
              "      <th colspan=\"2\" halign=\"left\">R2</th>\n",
              "    </tr>\n",
              "    <tr>\n",
              "      <th></th>\n",
              "      <th>inverted</th>\n",
              "      <th>average</th>\n",
              "      <th>inverted</th>\n",
              "      <th>average</th>\n",
              "      <th>inverted</th>\n",
              "      <th>average</th>\n",
              "    </tr>\n",
              "  </thead>\n",
              "  <tbody>\n",
              "    <tr>\n",
              "      <th>count</th>\n",
              "      <td>40.000000</td>\n",
              "      <td>40.000000</td>\n",
              "      <td>40.000000</td>\n",
              "      <td>40.000000</td>\n",
              "      <td>40.000000</td>\n",
              "      <td>40.000000</td>\n",
              "    </tr>\n",
              "    <tr>\n",
              "      <th>mean</th>\n",
              "      <td>0.285861</td>\n",
              "      <td>0.444934</td>\n",
              "      <td>1.384810</td>\n",
              "      <td>1.376837</td>\n",
              "      <td>-5.907769</td>\n",
              "      <td>-0.001769</td>\n",
              "    </tr>\n",
              "    <tr>\n",
              "      <th>std</th>\n",
              "      <td>0.140274</td>\n",
              "      <td>0.192808</td>\n",
              "      <td>0.276348</td>\n",
              "      <td>0.277049</td>\n",
              "      <td>3.301022</td>\n",
              "      <td>0.154841</td>\n",
              "    </tr>\n",
              "    <tr>\n",
              "      <th>min</th>\n",
              "      <td>0.111503</td>\n",
              "      <td>0.146128</td>\n",
              "      <td>0.826885</td>\n",
              "      <td>0.820012</td>\n",
              "      <td>-14.615252</td>\n",
              "      <td>-0.416871</td>\n",
              "    </tr>\n",
              "    <tr>\n",
              "      <th>25%</th>\n",
              "      <td>0.189800</td>\n",
              "      <td>0.323940</td>\n",
              "      <td>1.186696</td>\n",
              "      <td>1.184244</td>\n",
              "      <td>-8.056448</td>\n",
              "      <td>-0.107685</td>\n",
              "    </tr>\n",
              "    <tr>\n",
              "      <th>50%</th>\n",
              "      <td>0.242500</td>\n",
              "      <td>0.412301</td>\n",
              "      <td>1.354783</td>\n",
              "      <td>1.343659</td>\n",
              "      <td>-5.635819</td>\n",
              "      <td>0.007069</td>\n",
              "    </tr>\n",
              "    <tr>\n",
              "      <th>75%</th>\n",
              "      <td>0.330265</td>\n",
              "      <td>0.567125</td>\n",
              "      <td>1.568241</td>\n",
              "      <td>1.550327</td>\n",
              "      <td>-3.181032</td>\n",
              "      <td>0.087096</td>\n",
              "    </tr>\n",
              "    <tr>\n",
              "      <th>max</th>\n",
              "      <td>0.706724</td>\n",
              "      <td>1.031397</td>\n",
              "      <td>2.034862</td>\n",
              "      <td>2.034306</td>\n",
              "      <td>-0.901459</td>\n",
              "      <td>0.414340</td>\n",
              "    </tr>\n",
              "  </tbody>\n",
              "</table>\n",
              "</div>\n",
              "      <button class=\"colab-df-convert\" onclick=\"convertToInteractive('df-8d405d94-50dc-4e82-a72d-8ebbbeb0a754')\"\n",
              "              title=\"Convert this dataframe to an interactive table.\"\n",
              "              style=\"display:none;\">\n",
              "        \n",
              "  <svg xmlns=\"http://www.w3.org/2000/svg\" height=\"24px\"viewBox=\"0 0 24 24\"\n",
              "       width=\"24px\">\n",
              "    <path d=\"M0 0h24v24H0V0z\" fill=\"none\"/>\n",
              "    <path d=\"M18.56 5.44l.94 2.06.94-2.06 2.06-.94-2.06-.94-.94-2.06-.94 2.06-2.06.94zm-11 1L8.5 8.5l.94-2.06 2.06-.94-2.06-.94L8.5 2.5l-.94 2.06-2.06.94zm10 10l.94 2.06.94-2.06 2.06-.94-2.06-.94-.94-2.06-.94 2.06-2.06.94z\"/><path d=\"M17.41 7.96l-1.37-1.37c-.4-.4-.92-.59-1.43-.59-.52 0-1.04.2-1.43.59L10.3 9.45l-7.72 7.72c-.78.78-.78 2.05 0 2.83L4 21.41c.39.39.9.59 1.41.59.51 0 1.02-.2 1.41-.59l7.78-7.78 2.81-2.81c.8-.78.8-2.07 0-2.86zM5.41 20L4 18.59l7.72-7.72 1.47 1.35L5.41 20z\"/>\n",
              "  </svg>\n",
              "      </button>\n",
              "      \n",
              "  <style>\n",
              "    .colab-df-container {\n",
              "      display:flex;\n",
              "      flex-wrap:wrap;\n",
              "      gap: 12px;\n",
              "    }\n",
              "\n",
              "    .colab-df-convert {\n",
              "      background-color: #E8F0FE;\n",
              "      border: none;\n",
              "      border-radius: 50%;\n",
              "      cursor: pointer;\n",
              "      display: none;\n",
              "      fill: #1967D2;\n",
              "      height: 32px;\n",
              "      padding: 0 0 0 0;\n",
              "      width: 32px;\n",
              "    }\n",
              "\n",
              "    .colab-df-convert:hover {\n",
              "      background-color: #E2EBFA;\n",
              "      box-shadow: 0px 1px 2px rgba(60, 64, 67, 0.3), 0px 1px 3px 1px rgba(60, 64, 67, 0.15);\n",
              "      fill: #174EA6;\n",
              "    }\n",
              "\n",
              "    [theme=dark] .colab-df-convert {\n",
              "      background-color: #3B4455;\n",
              "      fill: #D2E3FC;\n",
              "    }\n",
              "\n",
              "    [theme=dark] .colab-df-convert:hover {\n",
              "      background-color: #434B5C;\n",
              "      box-shadow: 0px 1px 3px 1px rgba(0, 0, 0, 0.15);\n",
              "      filter: drop-shadow(0px 1px 2px rgba(0, 0, 0, 0.3));\n",
              "      fill: #FFFFFF;\n",
              "    }\n",
              "  </style>\n",
              "\n",
              "      <script>\n",
              "        const buttonEl =\n",
              "          document.querySelector('#df-8d405d94-50dc-4e82-a72d-8ebbbeb0a754 button.colab-df-convert');\n",
              "        buttonEl.style.display =\n",
              "          google.colab.kernel.accessAllowed ? 'block' : 'none';\n",
              "\n",
              "        async function convertToInteractive(key) {\n",
              "          const element = document.querySelector('#df-8d405d94-50dc-4e82-a72d-8ebbbeb0a754');\n",
              "          const dataTable =\n",
              "            await google.colab.kernel.invokeFunction('convertToInteractive',\n",
              "                                                     [key], {});\n",
              "          if (!dataTable) return;\n",
              "\n",
              "          const docLinkHtml = 'Like what you see? Visit the ' +\n",
              "            '<a target=\"_blank\" href=https://colab.research.google.com/notebooks/data_table.ipynb>data table notebook</a>'\n",
              "            + ' to learn more about interactive tables.';\n",
              "          element.innerHTML = '';\n",
              "          dataTable['output_type'] = 'display_data';\n",
              "          await google.colab.output.renderOutput(dataTable, element);\n",
              "          const docLink = document.createElement('div');\n",
              "          docLink.innerHTML = docLinkHtml;\n",
              "          element.appendChild(docLink);\n",
              "        }\n",
              "      </script>\n",
              "    </div>\n",
              "  </div>\n",
              "  "
            ],
            "text/plain": [
              "           Lasso                                                       \n",
              "            MAPE                   MAE                    R2           \n",
              "        inverted    average   inverted    average   inverted    average\n",
              "count  40.000000  40.000000  40.000000  40.000000  40.000000  40.000000\n",
              "mean    0.285861   0.444934   1.384810   1.376837  -5.907769  -0.001769\n",
              "std     0.140274   0.192808   0.276348   0.277049   3.301022   0.154841\n",
              "min     0.111503   0.146128   0.826885   0.820012 -14.615252  -0.416871\n",
              "25%     0.189800   0.323940   1.186696   1.184244  -8.056448  -0.107685\n",
              "50%     0.242500   0.412301   1.354783   1.343659  -5.635819   0.007069\n",
              "75%     0.330265   0.567125   1.568241   1.550327  -3.181032   0.087096\n",
              "max     0.706724   1.031397   2.034862   2.034306  -0.901459   0.414340"
            ]
          },
          "metadata": {},
          "execution_count": 26
        }
      ]
    },
    {
      "cell_type": "code",
      "source": [
        "!pip install shap"
      ],
      "metadata": {
        "id": "S7kM4JkBuEra"
      },
      "execution_count": null,
      "outputs": []
    },
    {
      "cell_type": "code",
      "source": [
        "chans = ['Fz', 'F3', 'F7','C3', 'T7', 'Pz', 'P3','P7', 'O1', 'Oz', 'O2','P4', 'P8', 'Cz','C4', 'T8', 'F4', 'F8']\n",
        "result = pd.DataFrame()\n",
        "grid_res = []\n",
        "n_films = 8\n",
        "import shap\n",
        "\n",
        "for film in tqdm_notebook(range(1, n_films + 1)):\n",
        "    X_test = data_all.loc[(data_all['film'] == film)].reset_index(drop=True)\n",
        "    X_train = data_all.loc[(data_all['film'] != film)].reset_index(drop=True)\n",
        "    X_train = X_train.sample(frac=1)\n",
        "    X_test = X_test.sample(frac=1)\n",
        "\n",
        "    y_train = X_train['labels']\n",
        "    y_test = np.array(X_test['labels'])\n",
        "    train_film = X_train['film']\n",
        "    train_subj = X_train['Subj']\n",
        "    train_ch = X_train['ch']\n",
        "    test_film = X_test['film']\n",
        "    test_subj = X_test['Subj']\n",
        "    test_ch = np.array(X_test['ch'])\n",
        "    \n",
        "    X_train = X_train.drop(['film', 'Subj', 'labels', 'ch'], axis=1)\n",
        "    X_test = X_test.drop(['film', 'Subj', 'labels', 'ch'], axis=1)\n",
        "    \n",
        "    \n",
        "    model = linear_model.LassoCV()\n",
        "    model.fit(X_train, y_train)\n",
        "    X_train_summary = shap.kmeans(X_train, 10)\n",
        "    explainer = shap.KernelExplainer(model.predict, X_train_summary)\n",
        "    shap_values = explainer.shap_values(X_test)\n",
        "    shap.summary_plot(shap_values, X_test, max_display=23, show=False)\n",
        "    plt.savefig('F{}_deap.png'.format(film),  bbox_inches='tight')\n",
        "    plt.clf()"
      ],
      "metadata": {
        "id": "pcUxVYRIttc2"
      },
      "execution_count": null,
      "outputs": []
    }
  ]
}